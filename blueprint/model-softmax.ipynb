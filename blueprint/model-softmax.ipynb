{
 "cells": [
  {
   "cell_type": "code",
   "execution_count": 2,
   "metadata": {},
   "outputs": [],
   "source": [
    "import numpy as np\n",
    "import tensorflow as tf\n",
    "from sklearn.preprocessing import MinMaxScaler\n",
    "from keras.models import Sequential\n",
    "from keras.layers import LSTM, Dense\n",
    "import pandas as pd"
   ]
  },
  {
   "cell_type": "code",
   "execution_count": 2,
   "metadata": {},
   "outputs": [
    {
     "name": "stdout",
     "output_type": "stream",
     "text": [
      "   Unnamed: 0  round  venue   gf   ga   xg  xga  poss  formation    sh  ...  \\\n",
      "0           0     33      0  0.0  0.0  1.4  0.8  49.0          4  11.0  ...   \n",
      "1           1     35      1  2.0  0.0  2.4  0.4  64.0          4  25.0  ...   \n",
      "2           2     37      0  5.0  2.0  3.5  1.0  67.0          4  30.0  ...   \n",
      "3           3      2      0  1.0  3.0  0.3  1.8  43.0          4   6.0  ...   \n",
      "4           4      3      1  2.0  0.0  2.1  0.7  43.0          4  14.0  ...   \n",
      "\n",
      "   ga_rolling  sh_rolling  sot_rolling  dist_rolling  fk_rolling  pk_rolling  \\\n",
      "0    2.333333   17.333333     6.333333     17.300000    0.333333         0.0   \n",
      "1    1.333333   12.000000     3.666667     16.566667    0.333333         0.0   \n",
      "2    0.000000   17.666667     6.333333     17.166667    1.000000         0.0   \n",
      "3    0.666667   22.000000     8.000000     17.500000    1.333333         0.0   \n",
      "4    1.666667   20.333333     8.333333     18.500000    1.666667         0.0   \n",
      "\n",
      "   pkatt_rolling  home_code  target_away  target_home  \n",
      "0            0.0          0            0            0  \n",
      "1            0.0          0            0            1  \n",
      "2            0.0          0            0            1  \n",
      "3            0.0          0            1            0  \n",
      "4            0.0          0            0            1  \n",
      "\n",
      "[5 rows x 30 columns]\n",
      "(1806, 30)\n"
     ]
    }
   ],
   "source": [
    "dataTrain=pd.read_csv(\"../data/newtrain.csv\")\n",
    "dataTest=pd.read_csv(\"../data/newtest.csv\")\n",
    "print(dataTrain.head())\n",
    "print(dataTrain.shape)"
   ]
  },
  {
   "cell_type": "code",
   "execution_count": 3,
   "metadata": {},
   "outputs": [],
   "source": [
    "del dataTrain[\"Unnamed: 0\"]\n",
    "del dataTest[\"Unnamed: 0\"]"
   ]
  },
  {
   "cell_type": "code",
   "execution_count": 4,
   "metadata": {},
   "outputs": [
    {
     "name": "stdout",
     "output_type": "stream",
     "text": [
      "<class 'pandas.core.frame.DataFrame'>\n",
      "RangeIndex: 1806 entries, 0 to 1805\n",
      "Data columns (total 29 columns):\n",
      " #   Column         Non-Null Count  Dtype  \n",
      "---  ------         --------------  -----  \n",
      " 0   round          1806 non-null   int64  \n",
      " 1   venue          1806 non-null   int64  \n",
      " 2   gf             1806 non-null   float64\n",
      " 3   ga             1806 non-null   float64\n",
      " 4   xg             1806 non-null   float64\n",
      " 5   xga            1806 non-null   float64\n",
      " 6   poss           1806 non-null   float64\n",
      " 7   formation      1806 non-null   int64  \n",
      " 8   sh             1806 non-null   float64\n",
      " 9   sot            1806 non-null   float64\n",
      " 10  dist           1806 non-null   float64\n",
      " 11  fk             1806 non-null   float64\n",
      " 12  pk             1806 non-null   float64\n",
      " 13  pkatt          1806 non-null   float64\n",
      " 14  venue_code     1806 non-null   int64  \n",
      " 15  opp_code       1806 non-null   int64  \n",
      " 16  hour           1806 non-null   int64  \n",
      " 17  day_code       1806 non-null   int64  \n",
      " 18  gf_rolling     1806 non-null   float64\n",
      " 19  ga_rolling     1806 non-null   float64\n",
      " 20  sh_rolling     1806 non-null   float64\n",
      " 21  sot_rolling    1806 non-null   float64\n",
      " 22  dist_rolling   1806 non-null   float64\n",
      " 23  fk_rolling     1806 non-null   float64\n",
      " 24  pk_rolling     1806 non-null   float64\n",
      " 25  pkatt_rolling  1806 non-null   float64\n",
      " 26  home_code      1806 non-null   int64  \n",
      " 27  target_away    1806 non-null   int64  \n",
      " 28  target_home    1806 non-null   int64  \n",
      "dtypes: float64(19), int64(10)\n",
      "memory usage: 409.3 KB\n"
     ]
    }
   ],
   "source": [
    "dataTrain.info()"
   ]
  },
  {
   "cell_type": "code",
   "execution_count": 5,
   "metadata": {},
   "outputs": [
    {
     "name": "stdout",
     "output_type": "stream",
     "text": [
      "<class 'pandas.core.frame.DataFrame'>\n",
      "RangeIndex: 609 entries, 0 to 608\n",
      "Data columns (total 29 columns):\n",
      " #   Column         Non-Null Count  Dtype  \n",
      "---  ------         --------------  -----  \n",
      " 0   round          609 non-null    int64  \n",
      " 1   venue          609 non-null    int64  \n",
      " 2   gf             609 non-null    float64\n",
      " 3   ga             609 non-null    float64\n",
      " 4   xg             609 non-null    float64\n",
      " 5   xga            609 non-null    float64\n",
      " 6   poss           609 non-null    float64\n",
      " 7   formation      609 non-null    int64  \n",
      " 8   sh             609 non-null    float64\n",
      " 9   sot            609 non-null    float64\n",
      " 10  dist           609 non-null    float64\n",
      " 11  fk             609 non-null    float64\n",
      " 12  pk             609 non-null    float64\n",
      " 13  pkatt          609 non-null    float64\n",
      " 14  venue_code     609 non-null    int64  \n",
      " 15  opp_code       609 non-null    int64  \n",
      " 16  hour           609 non-null    int64  \n",
      " 17  day_code       609 non-null    int64  \n",
      " 18  gf_rolling     609 non-null    float64\n",
      " 19  ga_rolling     609 non-null    float64\n",
      " 20  sh_rolling     609 non-null    float64\n",
      " 21  sot_rolling    609 non-null    float64\n",
      " 22  dist_rolling   609 non-null    float64\n",
      " 23  fk_rolling     609 non-null    float64\n",
      " 24  pk_rolling     609 non-null    float64\n",
      " 25  pkatt_rolling  609 non-null    float64\n",
      " 26  home_code      609 non-null    int64  \n",
      " 27  target_away    609 non-null    int64  \n",
      " 28  target_home    609 non-null    int64  \n",
      "dtypes: float64(19), int64(10)\n",
      "memory usage: 138.1 KB\n"
     ]
    }
   ],
   "source": [
    "dataTest.info()"
   ]
  },
  {
   "cell_type": "code",
   "execution_count": 6,
   "metadata": {},
   "outputs": [],
   "source": [
    "# Data Training\n",
    "train_data = dataTrain.iloc[:, :-2].values\n",
    "train_labels = dataTrain.iloc[:, -2:].values\n",
    "\n",
    "# Data Testing\n",
    "test_data = dataTest.iloc[:, :-2].values\n",
    "test_labels = dataTest.iloc[:, -2:].values"
   ]
  },
  {
   "cell_type": "code",
   "execution_count": 7,
   "metadata": {},
   "outputs": [],
   "source": [
    "# Normalisasi Data\n",
    "scaler = MinMaxScaler()\n",
    "train_data = scaler.fit_transform(train_data)\n",
    "test_data = scaler.transform(test_data)\n",
    "\n",
    "# Pembentukan Data Sequence\n",
    "sequence_length = 10  # Panjang sequence yang akan digunakan\n",
    "num_features = train_data.shape[1]"
   ]
  },
  {
   "cell_type": "code",
   "execution_count": 8,
   "metadata": {},
   "outputs": [],
   "source": [
    "def create_sequences(data, labels, sequence_length):\n",
    "    X = []\n",
    "    y = []\n",
    "    for i in range(len(data) - sequence_length):\n",
    "        X.append(data[i:i+sequence_length])\n",
    "        y.append(labels[i+sequence_length])\n",
    "    return np.array(X), np.array(y)\n"
   ]
  },
  {
   "cell_type": "code",
   "execution_count": 9,
   "metadata": {},
   "outputs": [],
   "source": [
    "X_train, y_train = create_sequences(train_data, train_labels, sequence_length)\n",
    "X_test, y_test = create_sequences(test_data, test_labels, sequence_length)"
   ]
  },
  {
   "cell_type": "code",
   "execution_count": 10,
   "metadata": {},
   "outputs": [],
   "source": [
    "# Pembangunan Model LSTM\n",
    "model = Sequential()\n",
    "model.add(LSTM(units=64, input_shape=(sequence_length, num_features)))\n",
    "model.add(Dense(units=2, activation='sigmoid'))\n",
    "model.compile(optimizer='adam', loss='binary_crossentropy', metrics=['accuracy'], run_eagerly=True)"
   ]
  },
  {
   "cell_type": "code",
   "execution_count": 11,
   "metadata": {},
   "outputs": [
    {
     "name": "stdout",
     "output_type": "stream",
     "text": [
      "Epoch 1/10\n",
      "57/57 [==============================] - 4s 65ms/step - loss: 0.6560 - accuracy: 0.5874\n",
      "Epoch 2/10\n",
      "57/57 [==============================] - 3s 61ms/step - loss: 0.6428 - accuracy: 0.6214\n",
      "Epoch 3/10\n",
      "57/57 [==============================] - 3s 60ms/step - loss: 0.6396 - accuracy: 0.6102\n",
      "Epoch 4/10\n",
      "57/57 [==============================] - 3s 60ms/step - loss: 0.6421 - accuracy: 0.6242\n",
      "Epoch 5/10\n",
      "57/57 [==============================] - 4s 61ms/step - loss: 0.6378 - accuracy: 0.6303\n",
      "Epoch 6/10\n",
      "57/57 [==============================] - 3s 60ms/step - loss: 0.6364 - accuracy: 0.6303\n",
      "Epoch 7/10\n",
      "57/57 [==============================] - 3s 60ms/step - loss: 0.6342 - accuracy: 0.6269\n",
      "Epoch 8/10\n",
      "57/57 [==============================] - 3s 59ms/step - loss: 0.6332 - accuracy: 0.6325\n",
      "Epoch 9/10\n",
      "57/57 [==============================] - 4s 62ms/step - loss: 0.6313 - accuracy: 0.6297\n",
      "Epoch 10/10\n",
      "57/57 [==============================] - 4s 63ms/step - loss: 0.6339 - accuracy: 0.6347\n"
     ]
    },
    {
     "data": {
      "text/plain": [
       "<keras.callbacks.History at 0x1c46d14e8d0>"
      ]
     },
     "execution_count": 11,
     "metadata": {},
     "output_type": "execute_result"
    }
   ],
   "source": [
    "# Pelatihan Model\n",
    "model.fit(X_train, y_train, epochs=10, batch_size=32)  # Sesuaikan dengan jumlah epoch dan ukuran batch yang optimal"
   ]
  },
  {
   "cell_type": "code",
   "execution_count": 12,
   "metadata": {},
   "outputs": [],
   "source": [
    "model.save('../model/model2.h5')"
   ]
  },
  {
   "cell_type": "code",
   "execution_count": 13,
   "metadata": {},
   "outputs": [],
   "source": [
    "from tensorflow.keras.models import load_model\n",
    "model = load_model('../model/model2.h5')"
   ]
  },
  {
   "cell_type": "code",
   "execution_count": 27,
   "metadata": {},
   "outputs": [],
   "source": [
    "new_data = np.array([[0, 0, 2, 0, 1, 1.2, 44, 15, 10, 2, 14.6, 1, 0, 0, 0, 6, 20, 4, 1.666666667, 2, 15, 5, 20.7, 0, 0.3333333333, 0.3333333333, 0]])"
   ]
  },
  {
   "cell_type": "code",
   "execution_count": null,
   "metadata": {},
   "outputs": [],
   "source": []
  }
 ],
 "metadata": {
  "kernelspec": {
   "display_name": ".venv",
   "language": "python",
   "name": "python3"
  },
  "language_info": {
   "codemirror_mode": {
    "name": "ipython",
    "version": 3
   },
   "file_extension": ".py",
   "mimetype": "text/x-python",
   "name": "python",
   "nbconvert_exporter": "python",
   "pygments_lexer": "ipython3",
   "version": "3.11.2"
  },
  "orig_nbformat": 4
 },
 "nbformat": 4,
 "nbformat_minor": 2
}
