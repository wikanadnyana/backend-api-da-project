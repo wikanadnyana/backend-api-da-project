{
 "cells": [
  {
   "cell_type": "code",
   "execution_count": 1,
   "metadata": {},
   "outputs": [],
   "source": [
    "import numpy as np\n",
    "import tensorflow as tf\n",
    "from tensorflow import keras\n",
    "from tensorflow.keras import layers\n",
    "import pandas as pd"
   ]
  },
  {
   "cell_type": "code",
   "execution_count": 2,
   "metadata": {},
   "outputs": [
    {
     "name": "stdout",
     "output_type": "stream",
     "text": [
      "   FTR  HTGS  ATGS  HTGC  ATGC  HTP  ATP  HM1  HM2  HM3  ...  ATWinStreak5  \\\n",
      "0    0   0.0   0.0   0.0   0.0  0.0  0.0    2    2    2  ...             0   \n",
      "1    0   0.0   0.0   0.0   0.0  0.0  0.0    2    2    2  ...             0   \n",
      "2    1   0.0   0.0   0.0   0.0  0.0  0.0    2    2    2  ...             0   \n",
      "3    0   0.0   0.0   0.0   0.0  0.0  0.0    2    2    2  ...             0   \n",
      "4    1   0.0   0.0   0.0   0.0  0.0  0.0    2    2    2  ...             0   \n",
      "\n",
      "   ATLossStreak3  ATLossStreak5  HTGD  ATGD  DiffPts  DiffFormPts  DiffLP  \\\n",
      "0              0              0   0.0   0.0      0.0          0.0   -11.0   \n",
      "1              0              0   0.0   0.0      0.0          0.0     2.0   \n",
      "2              0              0   0.0   0.0      0.0          0.0     2.0   \n",
      "3              0              0   0.0   0.0      0.0          0.0   -17.0   \n",
      "4              0              0   0.0   0.0      0.0          0.0     4.0   \n",
      "\n",
      "   final1  final2  \n",
      "0     1.0     0.0  \n",
      "1     1.0     0.0  \n",
      "2     0.0     1.0  \n",
      "3     1.0     0.0  \n",
      "4     0.0     1.0  \n",
      "\n",
      "[5 rows x 30 columns]\n",
      "(1860, 30)\n"
     ]
    }
   ],
   "source": [
    "dataTrain=pd.read_csv(\"../data/allAtt_onehot_large_train.csv\")\n",
    "dataTest=pd.read_csv(\"../data/allAtt_onehot_large_test.csv\")\n",
    "print(dataTrain.head())\n",
    "print(dataTrain.shape)"
   ]
  },
  {
   "cell_type": "code",
   "execution_count": 3,
   "metadata": {},
   "outputs": [
    {
     "name": "stdout",
     "output_type": "stream",
     "text": [
      "<class 'pandas.core.frame.DataFrame'>\n",
      "RangeIndex: 1860 entries, 0 to 1859\n",
      "Data columns (total 30 columns):\n",
      " #   Column         Non-Null Count  Dtype  \n",
      "---  ------         --------------  -----  \n",
      " 0   FTR            1860 non-null   int64  \n",
      " 1   HTGS           1860 non-null   float64\n",
      " 2   ATGS           1860 non-null   float64\n",
      " 3   HTGC           1860 non-null   float64\n",
      " 4   ATGC           1860 non-null   float64\n",
      " 5   HTP            1860 non-null   float64\n",
      " 6   ATP            1860 non-null   float64\n",
      " 7   HM1            1860 non-null   int64  \n",
      " 8   HM2            1860 non-null   int64  \n",
      " 9   HM3            1860 non-null   int64  \n",
      " 10  HM4            1860 non-null   int64  \n",
      " 11  AM1            1860 non-null   int64  \n",
      " 12  AM2            1860 non-null   int64  \n",
      " 13  AM3            1860 non-null   int64  \n",
      " 14  AM4            1860 non-null   int64  \n",
      " 15  HTWinStreak3   1860 non-null   int64  \n",
      " 16  HTWinStreak5   1860 non-null   int64  \n",
      " 17  HTLossStreak3  1860 non-null   int64  \n",
      " 18  HTLossStreak5  1860 non-null   int64  \n",
      " 19  ATWinStreak3   1860 non-null   int64  \n",
      " 20  ATWinStreak5   1860 non-null   int64  \n",
      " 21  ATLossStreak3  1860 non-null   int64  \n",
      " 22  ATLossStreak5  1860 non-null   int64  \n",
      " 23  HTGD           1860 non-null   float64\n",
      " 24  ATGD           1860 non-null   float64\n",
      " 25  DiffPts        1860 non-null   float64\n",
      " 26  DiffFormPts    1860 non-null   float64\n",
      " 27  DiffLP         1860 non-null   float64\n",
      " 28  final1         1860 non-null   float64\n",
      " 29  final2         1860 non-null   float64\n",
      "dtypes: float64(13), int64(17)\n",
      "memory usage: 436.1 KB\n"
     ]
    }
   ],
   "source": [
    "dataTrain.info()"
   ]
  },
  {
   "cell_type": "code",
   "execution_count": 4,
   "metadata": {},
   "outputs": [],
   "source": [
    "batch_size = 64\n",
    "# Each MNIST image batch is a tensor of shape (batch_size, 28, 1).\n",
    "# Each input sequence will be of size (28, 1).\n",
    "input_dim = 27\n",
    "\n",
    "units = 64\n",
    "output_size = 2  # labels are from Win or Loss\n",
    "\n",
    "# Build the RNN model\n",
    "def build_model(allow_cudnn_kernel=True):\n",
    "    # CuDNN is only available at the layer level, and not at the cell level.\n",
    "    # This means `LSTM(units)` will use the CuDNN kernel,\n",
    "    # while RNN(LSTMCell(units)) will run on non-CuDNN kernel.\n",
    "    if allow_cudnn_kernel:\n",
    "        # The LSTM layer with default options uses CuDNN.\n",
    "        lstm_layer = keras.layers.LSTM(units, input_shape=(input_dim,1))\n",
    "    else:\n",
    "        # Wrapping a LSTMCell in a RNN layer will not use CuDNN.\n",
    "        lstm_layer = keras.layers.RNN(\n",
    "            keras.layers.LSTMCell(units), input_shape=(input_dim,1)\n",
    "        )\n",
    "    model = keras.models.Sequential(\n",
    "        [\n",
    "            lstm_layer,\n",
    "            keras.layers.BatchNormalization(),\n",
    "            keras.layers.Dense(output_size),\n",
    "        ]\n",
    "    )\n",
    "    return model"
   ]
  },
  {
   "cell_type": "code",
   "execution_count": 5,
   "metadata": {},
   "outputs": [],
   "source": [
    "x_train, y_train = dataTrain.iloc[:,1:28].values,dataTrain.iloc[:,28:].values\n",
    "x_train=np.reshape(x_train,(1860,27,1))\n",
    "x_test, y_test = dataTest.iloc[:,1:28].values,dataTest.iloc[:,28:].values\n",
    "x_test=np.reshape(x_test,(800,27,1))"
   ]
  },
  {
   "cell_type": "code",
   "execution_count": 6,
   "metadata": {},
   "outputs": [
    {
     "name": "stdout",
     "output_type": "stream",
     "text": [
      "Model: \"sequential\"\n",
      "_________________________________________________________________\n",
      " Layer (type)                Output Shape              Param #   \n",
      "=================================================================\n",
      " lstm (LSTM)                 (None, 64)                16896     \n",
      "                                                                 \n",
      " batch_normalization (BatchN  (None, 64)               256       \n",
      " ormalization)                                                   \n",
      "                                                                 \n",
      " dense (Dense)               (None, 2)                 130       \n",
      "                                                                 \n",
      "=================================================================\n",
      "Total params: 17,282\n",
      "Trainable params: 17,154\n",
      "Non-trainable params: 128\n",
      "_________________________________________________________________\n"
     ]
    }
   ],
   "source": [
    "model = build_model(allow_cudnn_kernel=True)\n",
    "\n",
    "model.compile(\n",
    "    loss=keras.losses.CategoricalCrossentropy(from_logits=True),\n",
    "    optimizer=\"Adam\",\n",
    "    metrics=[\"categorical_accuracy\"],\n",
    ")\n",
    "\n",
    "model.summary()"
   ]
  },
  {
   "cell_type": "code",
   "execution_count": 7,
   "metadata": {},
   "outputs": [
    {
     "name": "stdout",
     "output_type": "stream",
     "text": [
      "Epoch 1/10\n",
      "30/30 [==============================] - 7s 43ms/step - loss: 0.6180 - categorical_accuracy: 0.6742 - val_loss: 0.6840 - val_categorical_accuracy: 0.5263\n",
      "Epoch 2/10\n",
      "30/30 [==============================] - 1s 21ms/step - loss: 0.6074 - categorical_accuracy: 0.6677 - val_loss: 0.6792 - val_categorical_accuracy: 0.5288\n",
      "Epoch 3/10\n",
      "30/30 [==============================] - 1s 20ms/step - loss: 0.6077 - categorical_accuracy: 0.6672 - val_loss: 0.6749 - val_categorical_accuracy: 0.5263\n",
      "Epoch 4/10\n",
      "30/30 [==============================] - 1s 21ms/step - loss: 0.6060 - categorical_accuracy: 0.6677 - val_loss: 0.6696 - val_categorical_accuracy: 0.5825\n",
      "Epoch 5/10\n",
      "30/30 [==============================] - 1s 23ms/step - loss: 0.6111 - categorical_accuracy: 0.6667 - val_loss: 0.6608 - val_categorical_accuracy: 0.6375\n",
      "Epoch 6/10\n",
      "30/30 [==============================] - 1s 20ms/step - loss: 0.6052 - categorical_accuracy: 0.6747 - val_loss: 0.6570 - val_categorical_accuracy: 0.6237\n",
      "Epoch 7/10\n",
      "30/30 [==============================] - 1s 20ms/step - loss: 0.6058 - categorical_accuracy: 0.6704 - val_loss: 0.6444 - val_categorical_accuracy: 0.6550\n",
      "Epoch 8/10\n",
      "30/30 [==============================] - 1s 21ms/step - loss: 0.6098 - categorical_accuracy: 0.6704 - val_loss: 0.6497 - val_categorical_accuracy: 0.6450\n",
      "Epoch 9/10\n",
      "30/30 [==============================] - 1s 23ms/step - loss: 0.6060 - categorical_accuracy: 0.6763 - val_loss: 0.6453 - val_categorical_accuracy: 0.6363\n",
      "Epoch 10/10\n",
      "30/30 [==============================] - 1s 21ms/step - loss: 0.6070 - categorical_accuracy: 0.6726 - val_loss: 0.6506 - val_categorical_accuracy: 0.6413\n"
     ]
    },
    {
     "data": {
      "text/plain": [
       "<keras.callbacks.History at 0x1c24919a7d0>"
      ]
     },
     "execution_count": 7,
     "metadata": {},
     "output_type": "execute_result"
    }
   ],
   "source": [
    "model.fit(\n",
    "    x_train, y_train, validation_data=(x_test, y_test), batch_size=batch_size, epochs=10\n",
    ")"
   ]
  },
  {
   "cell_type": "code",
   "execution_count": null,
   "metadata": {},
   "outputs": [],
   "source": []
  }
 ],
 "metadata": {
  "kernelspec": {
   "display_name": ".venv",
   "language": "python",
   "name": "python3"
  },
  "language_info": {
   "codemirror_mode": {
    "name": "ipython",
    "version": 3
   },
   "file_extension": ".py",
   "mimetype": "text/x-python",
   "name": "python",
   "nbconvert_exporter": "python",
   "pygments_lexer": "ipython3",
   "version": "3.11.2"
  },
  "orig_nbformat": 4
 },
 "nbformat": 4,
 "nbformat_minor": 2
}
