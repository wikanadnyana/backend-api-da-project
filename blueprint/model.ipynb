{
 "cells": [
  {
   "cell_type": "code",
   "execution_count": 2,
   "metadata": {},
   "outputs": [],
   "source": [
    "import numpy as np\n",
    "from sklearn.preprocessing import MinMaxScaler\n",
    "from keras.models import Sequential\n",
    "from keras.layers import LSTM, Dense\n",
    "import pandas as pd"
   ]
  },
  {
   "cell_type": "code",
   "execution_count": 3,
   "metadata": {},
   "outputs": [
    {
     "name": "stdout",
     "output_type": "stream",
     "text": [
      "   Unnamed: 0  round  venue   gf   ga   xg  xga  poss  formation    sh  ...  \\\n",
      "0           0     33      0  0.0  0.0  1.4  0.8  49.0          4  11.0  ...   \n",
      "1           1     35      1  2.0  0.0  2.4  0.4  64.0          4  25.0  ...   \n",
      "2           2     37      0  5.0  2.0  3.5  1.0  67.0          4  30.0  ...   \n",
      "3           3      2      0  1.0  3.0  0.3  1.8  43.0          4   6.0  ...   \n",
      "4           4      3      1  2.0  0.0  2.1  0.7  43.0          4  14.0  ...   \n",
      "\n",
      "   sh_rolling  sot_rolling  dist_rolling  fk_rolling  pk_rolling  \\\n",
      "0   17.333333     6.333333     17.300000    0.333333         0.0   \n",
      "1   12.000000     3.666667     16.566667    0.333333         0.0   \n",
      "2   17.666667     6.333333     17.166667    1.000000         0.0   \n",
      "3   22.000000     8.000000     17.500000    1.333333         0.0   \n",
      "4   20.333333     8.333333     18.500000    1.666667         0.0   \n",
      "\n",
      "  pkatt_rolling  home_code  target_away  target_draw  target_home  \n",
      "0           0.0          0            0            1            0  \n",
      "1           0.0          0            0            0            1  \n",
      "2           0.0          0            0            0            1  \n",
      "3           0.0          0            1            0            0  \n",
      "4           0.0          0            0            0            1  \n",
      "\n",
      "[5 rows x 32 columns]\n",
      "(1808, 32)\n"
     ]
    }
   ],
   "source": [
    "dataTrain=pd.read_csv(\"../data/traindata.csv\")\n",
    "dataTest=pd.read_csv(\"../data/testdata.csv\")\n",
    "print(dataTrain.head())\n",
    "print(dataTrain.shape)"
   ]
  },
  {
   "cell_type": "code",
   "execution_count": 4,
   "metadata": {},
   "outputs": [
    {
     "name": "stdout",
     "output_type": "stream",
     "text": [
      "<class 'pandas.core.frame.DataFrame'>\n",
      "RangeIndex: 1808 entries, 0 to 1807\n",
      "Data columns (total 32 columns):\n",
      " #   Column         Non-Null Count  Dtype  \n",
      "---  ------         --------------  -----  \n",
      " 0   Unnamed: 0     1808 non-null   int64  \n",
      " 1   round          1808 non-null   int64  \n",
      " 2   venue          1808 non-null   int64  \n",
      " 3   gf             1808 non-null   float64\n",
      " 4   ga             1808 non-null   float64\n",
      " 5   xg             1808 non-null   float64\n",
      " 6   xga            1808 non-null   float64\n",
      " 7   poss           1808 non-null   float64\n",
      " 8   formation      1808 non-null   int64  \n",
      " 9   sh             1808 non-null   float64\n",
      " 10  sot            1808 non-null   float64\n",
      " 11  dist           1806 non-null   float64\n",
      " 12  fk             1808 non-null   float64\n",
      " 13  pk             1808 non-null   float64\n",
      " 14  pkatt          1808 non-null   float64\n",
      " 15  season         1808 non-null   object \n",
      " 16  venue_code     1808 non-null   int64  \n",
      " 17  opp_code       1808 non-null   int64  \n",
      " 18  hour           1808 non-null   int64  \n",
      " 19  day_code       1808 non-null   int64  \n",
      " 20  gf_rolling     1808 non-null   float64\n",
      " 21  ga_rolling     1808 non-null   float64\n",
      " 22  sh_rolling     1808 non-null   float64\n",
      " 23  sot_rolling    1808 non-null   float64\n",
      " 24  dist_rolling   1808 non-null   float64\n",
      " 25  fk_rolling     1808 non-null   float64\n",
      " 26  pk_rolling     1808 non-null   float64\n",
      " 27  pkatt_rolling  1808 non-null   float64\n",
      " 28  home_code      1808 non-null   int64  \n",
      " 29  target_away    1808 non-null   int64  \n",
      " 30  target_draw    1808 non-null   int64  \n",
      " 31  target_home    1808 non-null   int64  \n",
      "dtypes: float64(19), int64(12), object(1)\n",
      "memory usage: 452.1+ KB\n"
     ]
    }
   ],
   "source": [
    "dataTrain.info()"
   ]
  },
  {
   "cell_type": "code",
   "execution_count": 5,
   "metadata": {},
   "outputs": [],
   "source": [
    "del dataTrain[\"Unnamed: 0\"]\n",
    "del dataTest[\"Unnamed: 0\"]\n",
    "del dataTrain[\"season\"]\n",
    "del dataTest[\"season\"]\n",
    "del dataTrain[\"target_draw\"]\n",
    "del dataTest[\"target_draw\"]"
   ]
  },
  {
   "cell_type": "code",
   "execution_count": 6,
   "metadata": {},
   "outputs": [
    {
     "name": "stdout",
     "output_type": "stream",
     "text": [
      "round            0\n",
      "venue            0\n",
      "gf               0\n",
      "ga               0\n",
      "xg               0\n",
      "xga              0\n",
      "poss             0\n",
      "formation        0\n",
      "sh               0\n",
      "sot              0\n",
      "dist             2\n",
      "fk               0\n",
      "pk               0\n",
      "pkatt            0\n",
      "venue_code       0\n",
      "opp_code         0\n",
      "hour             0\n",
      "day_code         0\n",
      "gf_rolling       0\n",
      "ga_rolling       0\n",
      "sh_rolling       0\n",
      "sot_rolling      0\n",
      "dist_rolling     0\n",
      "fk_rolling       0\n",
      "pk_rolling       0\n",
      "pkatt_rolling    0\n",
      "home_code        0\n",
      "target_away      0\n",
      "target_home      0\n",
      "dtype: int64\n",
      "round            0\n",
      "venue            0\n",
      "gf               0\n",
      "ga               0\n",
      "xg               0\n",
      "xga              0\n",
      "poss             0\n",
      "formation        0\n",
      "sh               0\n",
      "sot              0\n",
      "dist             0\n",
      "fk               0\n",
      "pk               0\n",
      "pkatt            0\n",
      "venue_code       0\n",
      "opp_code         0\n",
      "hour             0\n",
      "day_code         0\n",
      "gf_rolling       0\n",
      "ga_rolling       0\n",
      "sh_rolling       0\n",
      "sot_rolling      0\n",
      "dist_rolling     0\n",
      "fk_rolling       0\n",
      "pk_rolling       0\n",
      "pkatt_rolling    0\n",
      "home_code        0\n",
      "target_away      0\n",
      "target_home      0\n",
      "dtype: int64\n"
     ]
    }
   ],
   "source": [
    "# Pengecekan null value pada data training\n",
    "print(dataTrain.isnull().sum())\n",
    "\n",
    "# Pengecekan null value pada data testing\n",
    "print(dataTest.isnull().sum())"
   ]
  },
  {
   "cell_type": "code",
   "execution_count": 7,
   "metadata": {},
   "outputs": [],
   "source": [
    "# Menghapus baris dengan null value pada data training\n",
    "dataTrain = dataTrain.dropna()\n",
    "\n",
    "# Menghapus baris dengan null value pada data testing\n",
    "dataTest = dataTest.dropna()"
   ]
  },
  {
   "cell_type": "code",
   "execution_count": 16,
   "metadata": {},
   "outputs": [],
   "source": [
    "# Data Training\n",
    "train_data = dataTrain.iloc[:, :-2].values\n",
    "train_labels = dataTrain.iloc[:, -2:].values\n",
    "\n",
    "# Data Testing\n",
    "test_data = dataTest.iloc[:, :-2].values\n",
    "test_labels = dataTest.iloc[:, -2:].values"
   ]
  },
  {
   "cell_type": "code",
   "execution_count": 17,
   "metadata": {},
   "outputs": [],
   "source": [
    "# Normalisasi Data\n",
    "scaler = MinMaxScaler()\n",
    "train_data = scaler.fit_transform(train_data)\n",
    "test_data = scaler.transform(test_data)\n",
    "\n",
    "# Pembentukan Data Sequence\n",
    "sequence_length = 10  # Panjang sequence yang akan digunakan\n",
    "num_features = train_data.shape[1]"
   ]
  },
  {
   "cell_type": "code",
   "execution_count": 18,
   "metadata": {},
   "outputs": [],
   "source": [
    "def create_sequences(data, labels, sequence_length):\n",
    "    X = []\n",
    "    y = []\n",
    "    for i in range(len(data) - sequence_length):\n",
    "        X.append(data[i:i+sequence_length])\n",
    "        y.append(labels[i+sequence_length])\n",
    "    return np.array(X), np.array(y)"
   ]
  },
  {
   "cell_type": "code",
   "execution_count": 19,
   "metadata": {},
   "outputs": [],
   "source": [
    "X_train, y_train = create_sequences(train_data, train_labels, sequence_length)\n",
    "X_test, y_test = create_sequences(test_data, test_labels, sequence_length)"
   ]
  },
  {
   "cell_type": "code",
   "execution_count": 20,
   "metadata": {},
   "outputs": [],
   "source": [
    "# Pembangunan Model LSTM\n",
    "model = Sequential()\n",
    "model.add(LSTM(units=64, input_shape=(sequence_length, num_features)))\n",
    "model.add(Dense(units=2, activation='sigmoid'))\n",
    "model.compile(optimizer='adam', loss='binary_crossentropy', metrics=['accuracy'])"
   ]
  },
  {
   "cell_type": "code",
   "execution_count": 23,
   "metadata": {},
   "outputs": [
    {
     "name": "stdout",
     "output_type": "stream",
     "text": [
      "Epoch 1/10\n",
      "57/57 [==============================] - 0s 8ms/step - loss: 0.6358 - accuracy: 0.6086\n",
      "Epoch 2/10\n",
      "57/57 [==============================] - 0s 6ms/step - loss: 0.6316 - accuracy: 0.6353\n",
      "Epoch 3/10\n",
      "57/57 [==============================] - 0s 7ms/step - loss: 0.6318 - accuracy: 0.6264\n",
      "Epoch 4/10\n",
      "57/57 [==============================] - 0s 6ms/step - loss: 0.6327 - accuracy: 0.6192\n",
      "Epoch 5/10\n",
      "57/57 [==============================] - 0s 6ms/step - loss: 0.6310 - accuracy: 0.6359\n",
      "Epoch 6/10\n",
      "57/57 [==============================] - 0s 6ms/step - loss: 0.6301 - accuracy: 0.6125\n",
      "Epoch 7/10\n",
      "57/57 [==============================] - 0s 6ms/step - loss: 0.6302 - accuracy: 0.6275\n",
      "Epoch 8/10\n",
      "57/57 [==============================] - 0s 6ms/step - loss: 0.6266 - accuracy: 0.6359\n",
      "Epoch 9/10\n",
      "57/57 [==============================] - 0s 6ms/step - loss: 0.6276 - accuracy: 0.6186\n",
      "Epoch 10/10\n",
      "57/57 [==============================] - 0s 6ms/step - loss: 0.6232 - accuracy: 0.6414\n"
     ]
    },
    {
     "data": {
      "text/plain": [
       "<keras.callbacks.History at 0x1d92cd34810>"
      ]
     },
     "execution_count": 23,
     "metadata": {},
     "output_type": "execute_result"
    }
   ],
   "source": [
    "# Pelatihan Model\n",
    "model.fit(X_train, y_train, epochs=10, batch_size=32)  # Sesuaikan dengan jumlah epoch dan ukuran batch yang optimal"
   ]
  },
  {
   "cell_type": "code",
   "execution_count": 24,
   "metadata": {},
   "outputs": [
    {
     "name": "stdout",
     "output_type": "stream",
     "text": [
      "19/19 [==============================] - 0s 4ms/step - loss: 0.6488 - accuracy: 0.5826\n",
      "Test Loss: 0.648811936378479\n",
      "Test Accuracy: 0.5826377272605896\n"
     ]
    }
   ],
   "source": [
    "# Evaluasi Model\n",
    "loss, accuracy = model.evaluate(X_test, y_test)\n",
    "print('Test Loss:', loss)\n",
    "print('Test Accuracy:', accuracy)"
   ]
  },
  {
   "cell_type": "code",
   "execution_count": 25,
   "metadata": {},
   "outputs": [
    {
     "name": "stdout",
     "output_type": "stream",
     "text": [
      "<class 'pandas.core.frame.DataFrame'>\n",
      "Int64Index: 1806 entries, 0 to 1807\n",
      "Data columns (total 29 columns):\n",
      " #   Column         Non-Null Count  Dtype  \n",
      "---  ------         --------------  -----  \n",
      " 0   round          1806 non-null   int64  \n",
      " 1   venue          1806 non-null   int64  \n",
      " 2   gf             1806 non-null   float64\n",
      " 3   ga             1806 non-null   float64\n",
      " 4   xg             1806 non-null   float64\n",
      " 5   xga            1806 non-null   float64\n",
      " 6   poss           1806 non-null   float64\n",
      " 7   formation      1806 non-null   int64  \n",
      " 8   sh             1806 non-null   float64\n",
      " 9   sot            1806 non-null   float64\n",
      " 10  dist           1806 non-null   float64\n",
      " 11  fk             1806 non-null   float64\n",
      " 12  pk             1806 non-null   float64\n",
      " 13  pkatt          1806 non-null   float64\n",
      " 14  venue_code     1806 non-null   int64  \n",
      " 15  opp_code       1806 non-null   int64  \n",
      " 16  hour           1806 non-null   int64  \n",
      " 17  day_code       1806 non-null   int64  \n",
      " 18  gf_rolling     1806 non-null   float64\n",
      " 19  ga_rolling     1806 non-null   float64\n",
      " 20  sh_rolling     1806 non-null   float64\n",
      " 21  sot_rolling    1806 non-null   float64\n",
      " 22  dist_rolling   1806 non-null   float64\n",
      " 23  fk_rolling     1806 non-null   float64\n",
      " 24  pk_rolling     1806 non-null   float64\n",
      " 25  pkatt_rolling  1806 non-null   float64\n",
      " 26  home_code      1806 non-null   int64  \n",
      " 27  target_away    1806 non-null   int64  \n",
      " 28  target_home    1806 non-null   int64  \n",
      "dtypes: float64(19), int64(10)\n",
      "memory usage: 423.3 KB\n"
     ]
    }
   ],
   "source": [
    "dataTrain.info()"
   ]
  },
  {
   "cell_type": "code",
   "execution_count": 26,
   "metadata": {},
   "outputs": [],
   "source": [
    "# dataTrain.to_csv(\"../data/newtrain.csv\")\n",
    "# dataTest.to_csv(\"../data/newtest.csv\")"
   ]
  },
  {
   "cell_type": "code",
   "execution_count": 36,
   "metadata": {},
   "outputs": [],
   "source": [
    "new_data = np.array([0, 0, 2, 0, 1, 1.2, 44, 15, 10, 2, 14.6, 1, 0, 0, 0, 6, 20, 4, 1.666666667, 2, 15, 5, 20.7, 0, 0.3333333333, 0.3333333333, 0]).reshape(1, -1)\n",
    "new_data_scaled = scaler.transform(new_data)"
   ]
  }
 ],
 "metadata": {
  "kernelspec": {
   "display_name": ".venv",
   "language": "python",
   "name": "python3"
  },
  "language_info": {
   "codemirror_mode": {
    "name": "ipython",
    "version": 3
   },
   "file_extension": ".py",
   "mimetype": "text/x-python",
   "name": "python",
   "nbconvert_exporter": "python",
   "pygments_lexer": "ipython3",
   "version": "3.11.2"
  },
  "orig_nbformat": 4
 },
 "nbformat": 4,
 "nbformat_minor": 2
}
