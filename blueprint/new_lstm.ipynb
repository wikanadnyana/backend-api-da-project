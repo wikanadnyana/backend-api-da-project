{
 "cells": [
  {
   "cell_type": "code",
   "execution_count": 1,
   "metadata": {},
   "outputs": [],
   "source": [
    "import numpy as np\n",
    "import tensorflow as tf\n",
    "from sklearn.preprocessing import MinMaxScaler\n",
    "from keras.models import Sequential\n",
    "from keras.layers import LSTM, Dense  \n",
    "import pandas as pd"
   ]
  },
  {
   "cell_type": "code",
   "execution_count": null,
   "metadata": {},
   "outputs": [],
   "source": [
    "# data = data.reshape((1, 10, 1))\n",
    "\n",
    "# model = Sequential()\n",
    "# model.add(LSTM(32, input_shape=(10, 1)))\n",
    "# model.add(Dense(1))"
   ]
  },
  {
   "cell_type": "code",
   "execution_count": null,
   "metadata": {},
   "outputs": [],
   "source": [
    "from keras.models import Sequential\n",
    "from keras.layers import LSTM, Dense\n",
    "import numpy as np\n",
    "\n",
    "# Number of samples = 4, sequence length = 3, features = 2\n",
    "\n",
    "X = np.array( [ [ [0, 1], [1, 0,], [1, 1] ], \n",
    "                [ [1, 1], [1, 1,], [1, 0] ], \n",
    "                [ [0, 1], [1, 0,], [0, 0] ], \n",
    "                [ [1, 1], [1, 1,], [1, 1] ]] )\n",
    "\n",
    "y = np.array([[1], [0], [1], [0]])\n",
    "print(X)\n",
    "print(X.shape)\n",
    "print(y.shape)\n",
    "\n",
    "model = Sequential()\n",
    "model.add(LSTM(20, input_shape=(3, 2)))\n",
    "model.add(Dense(1, activation='sigmoid'))\n",
    "model.compile(loss='binary_crossentropy', optimizer='adam', metrics=['accuracy'])\n",
    "model.summary()\n",
    "\n",
    "model.fit(X, y)"
   ]
  }
 ],
 "metadata": {
  "kernelspec": {
   "display_name": ".venv",
   "language": "python",
   "name": "python3"
  },
  "language_info": {
   "codemirror_mode": {
    "name": "ipython",
    "version": 3
   },
   "file_extension": ".py",
   "mimetype": "text/x-python",
   "name": "python",
   "nbconvert_exporter": "python",
   "pygments_lexer": "ipython3",
   "version": "3.11.2"
  },
  "orig_nbformat": 4
 },
 "nbformat": 4,
 "nbformat_minor": 2
}
